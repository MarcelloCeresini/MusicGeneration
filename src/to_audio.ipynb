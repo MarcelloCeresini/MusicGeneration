{
 "cells": [
  {
   "cell_type": "code",
   "execution_count": 1,
   "metadata": {},
   "outputs": [
    {
     "name": "stderr",
     "output_type": "stream",
     "text": [
      "/home/volpepe/miniconda3/envs/music_gen/lib/python3.10/site-packages/tqdm/auto.py:22: TqdmWarning: IProgress not found. Please update jupyter and ipywidgets. See https://ipywidgets.readthedocs.io/en/stable/user_install.html\n",
      "  from .autonotebook import tqdm as notebook_tqdm\n",
      "2023-04-27 19:45:22.479496: I tensorflow/core/platform/cpu_feature_guard.cc:193] This TensorFlow binary is optimized with oneAPI Deep Neural Network Library (oneDNN) to use the following CPU instructions in performance-critical operations:  AVX2 FMA\n",
      "To enable them in other operations, rebuild TensorFlow with the appropriate compiler flags.\n",
      "2023-04-27 19:45:22.583500: E tensorflow/stream_executor/cuda/cuda_blas.cc:2981] Unable to register cuBLAS factory: Attempting to register factory for plugin cuBLAS when one has already been registered\n",
      "2023-04-27 19:45:23.067931: W tensorflow/stream_executor/platform/default/dso_loader.cc:64] Could not load dynamic library 'libnvinfer.so.7'; dlerror: libnvrtc.so.11.1: cannot open shared object file: No such file or directory; LD_LIBRARY_PATH: :/home/volpepe/miniconda3/envs/music_gen/lib/:/home/volpepe/miniconda3/envs/music_gen/lib/python3.10/site-packages/nvidia/cudnn/lib\n",
      "2023-04-27 19:45:23.068030: W tensorflow/stream_executor/platform/default/dso_loader.cc:64] Could not load dynamic library 'libnvinfer_plugin.so.7'; dlerror: libnvinfer_plugin.so.7: cannot open shared object file: No such file or directory; LD_LIBRARY_PATH: :/home/volpepe/miniconda3/envs/music_gen/lib/:/home/volpepe/miniconda3/envs/music_gen/lib/python3.10/site-packages/nvidia/cudnn/lib\n",
      "2023-04-27 19:45:23.068035: W tensorflow/compiler/tf2tensorrt/utils/py_utils.cc:38] TF-TRT Warning: Cannot dlopen some TensorRT libraries. If you would like to use Nvidia GPU with TensorRT, please make sure the missing libraries mentioned above are installed properly.\n",
      "2023-04-27 19:45:23.639553: I tensorflow/stream_executor/cuda/cuda_gpu_executor.cc:980] successful NUMA node read from SysFS had negative value (-1), but there must be at least one NUMA node, so returning NUMA node zero\n",
      "2023-04-27 19:45:23.659616: I tensorflow/stream_executor/cuda/cuda_gpu_executor.cc:980] successful NUMA node read from SysFS had negative value (-1), but there must be at least one NUMA node, so returning NUMA node zero\n",
      "2023-04-27 19:45:23.659847: I tensorflow/stream_executor/cuda/cuda_gpu_executor.cc:980] successful NUMA node read from SysFS had negative value (-1), but there must be at least one NUMA node, so returning NUMA node zero\n"
     ]
    }
   ],
   "source": [
    "import os\n",
    "import numpy as np\n",
    "import muspy\n",
    "from tqdm import tqdm\n",
    "import config\n",
    "import utils\n",
    "import tarfile\n",
    "import shutil\n",
    "import collections\n",
    "from matplotlib import pyplot as plt\n",
    "import json\n",
    "import tensorflow as tf\n",
    "import pickle\n",
    "import json\n",
    "import pprint\n",
    "import subprocess\n",
    "\n",
    "config_string = \"single_instruments_type\"\n",
    "ROOT_PATH = os.path.abspath(os.path.join(os.getcwd(), os.pardir))\n",
    "\n",
    "conf = config.Config(config_string, ROOT_PATH)"
   ]
  },
  {
   "cell_type": "code",
   "execution_count": 2,
   "metadata": {},
   "outputs": [],
   "source": [
    "# sounfont_path downloaded from https://www.dropbox.com/s/dl/4x27l49kxcwamp5/GeneralUser_GS_1.471.zip\n",
    "# from the download section of http://schristiancollins.com/generaluser.php\n",
    "# fluidsynth instead is installed by \"brew install fluidsynth\" (for mac)\n",
    "\n",
    "soundfont_path = os.path.join(ROOT_PATH, \"data\", \"GeneralUser GS 1.471\", \"GeneralUser GS v1.471.sf2\")\n"
   ]
  },
  {
   "cell_type": "code",
   "execution_count": 3,
   "metadata": {},
   "outputs": [],
   "source": [
    "repr_dir = os.path.join(conf.DATA_PATH, \"generated_songs\", 'repr')\n",
    "midi_dir = os.path.join(conf.DATA_PATH, \"generated_songs\", 'midi')\n",
    "wav_dir  = os.path.join(conf.DATA_PATH, \"generated_songs\", 'wav')\n",
    "\n",
    "os.makedirs(repr_dir, exist_ok=True)\n",
    "os.makedirs(midi_dir, exist_ok=True)\n",
    "os.makedirs(wav_dir,  exist_ok=True)"
   ]
  },
  {
   "cell_type": "code",
   "execution_count": 4,
   "metadata": {},
   "outputs": [],
   "source": [
    "for song_path in os.listdir(repr_dir):\n",
    "    # Load the song file\n",
    "    songs = np.load(os.path.join(repr_dir, song_path), allow_pickle=True)\n",
    "    song_filename = os.path.splitext(song_path)[0]\n",
    "    # Songs are batched: select them one by one\n",
    "    for i, song in enumerate(songs):\n",
    "        # Use anti-transfomation to convert the song to a muspy object\n",
    "        converted_song  = utils.anti_tranform_representation(song, conf)\n",
    "        path_song_midi  = os.path.join(midi_dir, f'{song_filename}_{i}.mid')\n",
    "        # Write midi song\n",
    "        muspy.outputs.write_midi(\n",
    "            path=path_song_midi,\n",
    "            music=converted_song,\n",
    "            backend=\"pretty_midi\",\n",
    "        )\n",
    "        # # Write to wav\n",
    "        # path_song_wav = os.path.join(wav_dir, f'{song_filename}_{i}.wav')\n",
    "        # command = ' '.join([\"fluidsynth\", \"-F\", path_song_wav, soundfont_path, path_song_midi])\n",
    "        # subprocess.run(command)"
   ]
  }
 ],
 "metadata": {
  "kernelspec": {
   "display_name": "env-MusicGeneration",
   "language": "python",
   "name": "python3"
  },
  "language_info": {
   "codemirror_mode": {
    "name": "ipython",
    "version": 3
   },
   "file_extension": ".py",
   "mimetype": "text/x-python",
   "name": "python",
   "nbconvert_exporter": "python",
   "pygments_lexer": "ipython3",
   "version": "3.10.10"
  },
  "orig_nbformat": 4
 },
 "nbformat": 4,
 "nbformat_minor": 2
}
