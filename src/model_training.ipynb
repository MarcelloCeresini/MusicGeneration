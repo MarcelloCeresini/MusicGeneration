{
 "cells": [
  {
   "cell_type": "markdown",
   "metadata": {},
   "source": [
    "# Imports"
   ]
  },
  {
   "cell_type": "code",
   "execution_count": null,
   "metadata": {
    "scrolled": true,
    "tags": []
   },
   "outputs": [],
   "source": [
    "import os\n",
    "\n",
    "import numpy as np\n",
    "import tensorflow as tf\n",
    "\n",
    "import wandb\n",
    "from wandb.keras import WandbCallback\n",
    "\n",
    "import config, music_model"
   ]
  },
  {
   "cell_type": "markdown",
   "metadata": {},
   "source": [
    "# Setup"
   ]
  },
  {
   "cell_type": "markdown",
   "metadata": {},
   "source": [
    "Set the following variables before training"
   ]
  },
  {
   "cell_type": "code",
   "execution_count": 2,
   "metadata": {},
   "outputs": [],
   "source": [
    "ADDITIONAL_MODEL_NAME = '_3'\n",
    "\n",
    "USE_MASK    = False\n",
    "USE_REG     = True\n",
    "\n",
    "USE_WANDB   = False\n",
    "USE_ONE_GPU = False            # or False if another GPU is available\n",
    "\n",
    "USE_SMALL_GENRE_SET = True    # or False if we want to use the dataset with the full genre subset list\n",
    "DATASET_NAME = 'tf_data7dict' # or whatever"
   ]
  },
  {
   "cell_type": "code",
   "execution_count": 3,
   "metadata": {},
   "outputs": [],
   "source": [
    "if USE_MASK and not USE_REG:\n",
    "    MODEL_NAME = 'mask_only'\n",
    "elif USE_REG and not USE_MASK:\n",
    "    MODEL_NAME = 'reg_only'\n",
    "elif USE_REG and USE_MASK:\n",
    "    MODEL_NAME = 'reg_and_mask'\n",
    "else:\n",
    "    MODEL_NAME = 'baseline'"
   ]
  },
  {
   "cell_type": "code",
   "execution_count": 4,
   "metadata": {},
   "outputs": [
    {
     "name": "stdout",
     "output_type": "stream",
     "text": [
      "INFO:tensorflow:Using MirroredStrategy with devices ('/job:localhost/replica:0/task:0/device:GPU:0', '/job:localhost/replica:0/task:0/device:GPU:1')\n"
     ]
    }
   ],
   "source": [
    "ROOT_PATH = os.path.abspath(os.path.join(os.getcwd(), os.pardir))\n",
    "conf = config.Config(\"single_instruments_type\", ROOT_PATH, f'model_{MODEL_NAME + ADDITIONAL_MODEL_NAME}')\n",
    "# Config object has by default the full list of accepted subgenres and works on multi-gpus\n",
    "# If we use the small dataset\n",
    "if USE_SMALL_GENRE_SET:\n",
    "    conf.accepted_subgenres = ['folk', 'nes', 'maestro']\n",
    "# If we need to use only the first GPU\n",
    "if USE_ONE_GPU:\n",
    "    conf.GPUS = tf.config.experimental.list_physical_devices('GPU')[0]\n",
    "    conf.BATCH_SIZE = 4\n",
    "    conf.GLOBAL_BATCH_SIZE = conf.BATCH_SIZE\n",
    "    conf.num_devices = 1"
   ]
  },
  {
   "cell_type": "markdown",
   "metadata": {},
   "source": [
    "# Training"
   ]
  },
  {
   "cell_type": "markdown",
   "metadata": {},
   "source": [
    "## Model creation"
   ]
  },
  {
   "cell_type": "code",
   "execution_count": 5,
   "metadata": {
    "scrolled": true,
    "tags": []
   },
   "outputs": [
    {
     "name": "stdout",
     "output_type": "stream",
     "text": [
      "Using multiple GPUs with Mirrored Strategy\n",
      "INFO:tensorflow:Reduce to /job:localhost/replica:0/task:0/device:CPU:0 then broadcast to ('/job:localhost/replica:0/task:0/device:CPU:0',).\n",
      "INFO:tensorflow:Reduce to /job:localhost/replica:0/task:0/device:CPU:0 then broadcast to ('/job:localhost/replica:0/task:0/device:CPU:0',).\n",
      "INFO:tensorflow:Reduce to /job:localhost/replica:0/task:0/device:CPU:0 then broadcast to ('/job:localhost/replica:0/task:0/device:CPU:0',).\n",
      "INFO:tensorflow:Reduce to /job:localhost/replica:0/task:0/device:CPU:0 then broadcast to ('/job:localhost/replica:0/task:0/device:CPU:0',).\n",
      "INFO:tensorflow:Reduce to /job:localhost/replica:0/task:0/device:CPU:0 then broadcast to ('/job:localhost/replica:0/task:0/device:CPU:0',).\n",
      "INFO:tensorflow:Reduce to /job:localhost/replica:0/task:0/device:CPU:0 then broadcast to ('/job:localhost/replica:0/task:0/device:CPU:0',).\n",
      "INFO:tensorflow:Reduce to /job:localhost/replica:0/task:0/device:CPU:0 then broadcast to ('/job:localhost/replica:0/task:0/device:CPU:0',).\n",
      "INFO:tensorflow:Reduce to /job:localhost/replica:0/task:0/device:CPU:0 then broadcast to ('/job:localhost/replica:0/task:0/device:CPU:0',).\n",
      "INFO:tensorflow:Reduce to /job:localhost/replica:0/task:0/device:CPU:0 then broadcast to ('/job:localhost/replica:0/task:0/device:CPU:0',).\n",
      "INFO:tensorflow:Reduce to /job:localhost/replica:0/task:0/device:CPU:0 then broadcast to ('/job:localhost/replica:0/task:0/device:CPU:0',).\n"
     ]
    }
   ],
   "source": [
    "if conf.num_devices > 1:\n",
    "    print(\"Using multiple GPUs with Mirrored Strategy\")\n",
    "    with conf.training_strategy.scope():\n",
    "        model = music_model.create_model(num_genres=len(conf.accepted_subgenres), \n",
    "                                                    use_masking_layers=USE_MASK,\n",
    "                                                    use_regularization=USE_REG)\n",
    "else:\n",
    "    print(\"Using single GPU/CPU device\")\n",
    "    model = music_model.create_model(num_genres=len(conf.accepted_subgenres), \n",
    "                                                use_masking_layers=USE_MASK,\n",
    "                                                use_regularization=USE_REG)"
   ]
  },
  {
   "cell_type": "markdown",
   "metadata": {},
   "source": [
    "## Wandb setup"
   ]
  },
  {
   "cell_type": "code",
   "execution_count": 6,
   "metadata": {},
   "outputs": [],
   "source": [
    "if USE_WANDB:\n",
    "    wandb_config = {\n",
    "        'gpus': conf.num_devices,\n",
    "        'dataset': DATASET_NAME,\n",
    "        'genres': conf.accepted_subgenres,\n",
    "        'embedding_size': conf.SINGLE_EMB_SIZE,\n",
    "        'batch_size': conf.BATCH_SIZE,\n",
    "        'global_batch_size': conf.GLOBAL_BATCH_SIZE,\n",
    "        'reg_loss_scale': conf.REG_LOSS_SCALE,\n",
    "        'masking': conf.USE_MASKING,\n",
    "        'dropout_prob': conf.DROPOUT_VALUE,\n",
    "        'seq_len': conf.SEQ_LEN,\n",
    "        'token_dim': conf.TOKEN_DIM,\n",
    "        'genre_dim': conf.GENRE_DIM,\n",
    "        'n_heads': conf.ATTENTION_HEADS,\n",
    "        'n_blocks': conf.ATTENTION_BLOCKS,\n",
    "        'activation_func': conf.DECODER_ACTIVATION_FUNCTION\n",
    "    }\n",
    "\n",
    "    run = wandb.init(project=\"Music Generation\", entity=\"marcello-e-federico\",\n",
    "                     group=MODEL_NAME, job_type='train', config=wandb_config)"
   ]
  },
  {
   "cell_type": "markdown",
   "metadata": {},
   "source": [
    "## Loading dataset"
   ]
  },
  {
   "cell_type": "code",
   "execution_count": 7,
   "metadata": {},
   "outputs": [],
   "source": [
    "dataset = tf.data.Dataset.load(conf.tf_data7dict_path).\\\n",
    "            batch(conf.GLOBAL_BATCH_SIZE).\\\n",
    "            cache().\\\n",
    "            shuffle(conf.SHUFFLE_SIZE).\\\n",
    "            prefetch(conf.PREFETCH_SIZE)\n",
    "\n",
    "options = tf.data.Options()\n",
    "options.experimental_distribute.auto_shard_policy = tf.data.experimental.AutoShardPolicy.DATA\n",
    "dataset = dataset.with_options(options)\n",
    "\n",
    "train_dataset = dataset.skip(int(len(dataset)/5))\n",
    "test_dataset = dataset.take(int(len(dataset)/5))"
   ]
  },
  {
   "cell_type": "markdown",
   "metadata": {},
   "source": [
    "## Training"
   ]
  },
  {
   "cell_type": "code",
   "execution_count": 8,
   "metadata": {},
   "outputs": [],
   "source": [
    "callbacks = conf.MODEL_CALLBACKS\n",
    "if USE_WANDB:\n",
    "    callbacks.append(WandbCallback(\n",
    "        save_model=False, save_graph=False,\n",
    "        log_weights=True\n",
    "    ))"
   ]
  },
  {
   "cell_type": "code",
   "execution_count": null,
   "metadata": {
    "scrolled": true,
    "tags": []
   },
   "outputs": [],
   "source": [
    "model.fit(\n",
    "    train_dataset,\n",
    "    epochs = 500,\n",
    "    callbacks = callbacks,\n",
    "    validation_data = test_dataset,\n",
    "    # initial_epoch = initial_epoch # change if resuming from previous checkpoint\n",
    ")"
   ]
  },
  {
   "cell_type": "code",
   "execution_count": null,
   "metadata": {},
   "outputs": [],
   "source": [
    "if USE_WANDB:\n",
    "    run.finish()"
   ]
  }
 ],
 "metadata": {
  "kernelspec": {
   "display_name": "env",
   "language": "python",
   "name": "env"
  },
  "language_info": {
   "codemirror_mode": {
    "name": "ipython",
    "version": 3
   },
   "file_extension": ".py",
   "mimetype": "text/x-python",
   "name": "python",
   "nbconvert_exporter": "python",
   "pygments_lexer": "ipython3",
   "version": "3.10.5"
  },
  "vscode": {
   "interpreter": {
    "hash": "b467f7883de7543dc02b11b94c328ac6855d20cf7509fc2662733d93501208eb"
   }
  }
 },
 "nbformat": 4,
 "nbformat_minor": 4
}
