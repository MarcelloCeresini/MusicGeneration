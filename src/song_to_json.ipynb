{
 "cells": [
  {
   "cell_type": "code",
   "execution_count": 1,
   "metadata": {},
   "outputs": [
    {
     "name": "stderr",
     "output_type": "stream",
     "text": [
      "/Users/marcelloceresini/miniconda/envs/env-MusicGeneration/lib/python3.10/site-packages/tqdm/auto.py:21: TqdmWarning: IProgress not found. Please update jupyter and ipywidgets. See https://ipywidgets.readthedocs.io/en/stable/user_install.html\n",
      "  from .autonotebook import tqdm as notebook_tqdm\n"
     ]
    }
   ],
   "source": [
    "import os\n",
    "import numpy as np\n",
    "import muspy\n",
    "from tqdm import tqdm\n",
    "import config\n",
    "import utils\n",
    "import tarfile\n",
    "import shutil\n",
    "import collections\n",
    "from matplotlib import pyplot as plt\n",
    "import json\n",
    "import tensorflow as tf\n",
    "import pickle\n",
    "import json\n",
    "import pprint\n",
    "\n",
    "config_string = \"single_instruments_type\"\n",
    "ROOT_PATH = os.path.abspath(os.path.join(os.getcwd(), os.pardir))\n",
    "\n",
    "conf = config.Config(config_string, ROOT_PATH)"
   ]
  },
  {
   "cell_type": "code",
   "execution_count": 2,
   "metadata": {},
   "outputs": [
    {
     "name": "stdout",
     "output_type": "stream",
     "text": [
      "<class 'muspy.music.Music'>\n"
     ]
    }
   ],
   "source": [
    "lmd_matched = utils.get_dataset(\"lmd_matched\", conf)\n",
    "song = lmd_matched[0]\n",
    "print(type(song))\n",
    "path = os.path.join(ROOT_PATH, \"data\", \"JSON\", \"0.json\")\n",
    "muspy.save_json(\n",
    "    path=path,\n",
    "    music=song,  \n",
    ")"
   ]
  },
  {
   "cell_type": "code",
   "execution_count": 3,
   "metadata": {},
   "outputs": [],
   "source": [
    "# How to write the song to the json file\n",
    "\n",
    "# with open(\"output.json\", \"w\") as f:\n",
    "#     json.dump(song_in_dict, f)"
   ]
  },
  {
   "cell_type": "code",
   "execution_count": 4,
   "metadata": {},
   "outputs": [],
   "source": [
    "# with open(path, \"r\") as f:\n",
    "#     tmp = json.load(f)\n",
    "\n",
    "# print(tmp)"
   ]
  },
  {
   "cell_type": "code",
   "execution_count": 5,
   "metadata": {},
   "outputs": [],
   "source": [
    "# tmp.keys()"
   ]
  },
  {
   "cell_type": "code",
   "execution_count": 6,
   "metadata": {},
   "outputs": [],
   "source": [
    "# tmp[\"tempos\"]"
   ]
  },
  {
   "cell_type": "code",
   "execution_count": 7,
   "metadata": {},
   "outputs": [],
   "source": [
    "# tmp[\"metadata\"]"
   ]
  },
  {
   "cell_type": "code",
   "execution_count": 8,
   "metadata": {},
   "outputs": [],
   "source": [
    "# tmp[\"tracks\"][0]"
   ]
  },
  {
   "cell_type": "code",
   "execution_count": 9,
   "metadata": {},
   "outputs": [
    {
     "name": "stdout",
     "output_type": "stream",
     "text": [
      "Track(program=0, is_drum=True, name='drums + fills       ', notes=[Note(time=6144, pitch=44, duration=32, velocity=64), Note(time=6192, pitch=44, duration=32, velocity=64), Note(time=6240, pitch=44, duration=32, velocity=64), ...])\n"
     ]
    }
   ],
   "source": [
    "def find_drum_track(song):\n",
    "    for track in song.tracks:\n",
    "        if track.is_drum:\n",
    "            return track\n",
    "    return False\n",
    "\n",
    "flag = False  \n",
    "i = 0\n",
    "\n",
    "for song in lmd_matched:\n",
    "    if (track:=find_drum_track(song)):\n",
    "        print(track)\n",
    "        break"
   ]
  },
  {
   "cell_type": "code",
   "execution_count": 14,
   "metadata": {},
   "outputs": [
    {
     "name": "stdout",
     "output_type": "stream",
     "text": [
      "Track(program=62, is_drum=False, name='main synth          ', notes=[Note(time=7, pitch=69, duration=64, velocity=100), Note(time=98, pitch=76, duration=70, velocity=100), Note(time=194, pitch=74, duration=70, velocity=100), ...])\n"
     ]
    }
   ],
   "source": [
    "print(lmd_matched[0].tracks[0])"
   ]
  },
  {
   "cell_type": "code",
   "execution_count": 11,
   "metadata": {},
   "outputs": [
    {
     "name": "stdout",
     "output_type": "stream",
     "text": [
      "[KeySignature(time=0, root=9, mode='minor')]\n"
     ]
    }
   ],
   "source": [
    "for song in lmd_matched:\n",
    "    if song.key_signatures != []:\n",
    "        print(song.key_signatures)\n",
    "        break"
   ]
  },
  {
   "cell_type": "code",
   "execution_count": 12,
   "metadata": {},
   "outputs": [
    {
     "name": "stdout",
     "output_type": "stream",
     "text": [
      "[TimeSignature(time=0, numerator=4, denominator=4)]\n"
     ]
    }
   ],
   "source": [
    "print(lmd_matched[0].time_signatures)\n"
   ]
  },
  {
   "cell_type": "code",
   "execution_count": null,
   "metadata": {},
   "outputs": [],
   "source": []
  }
 ],
 "metadata": {
  "kernelspec": {
   "display_name": "env-MusicGeneration",
   "language": "python",
   "name": "python3"
  },
  "language_info": {
   "codemirror_mode": {
    "name": "ipython",
    "version": 3
   },
   "file_extension": ".py",
   "mimetype": "text/x-python",
   "name": "python",
   "nbconvert_exporter": "python",
   "pygments_lexer": "ipython3",
   "version": "3.10.10"
  },
  "orig_nbformat": 4
 },
 "nbformat": 4,
 "nbformat_minor": 2
}
