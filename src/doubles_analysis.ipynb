{
 "cells": [
  {
   "cell_type": "code",
   "execution_count": 1,
   "id": "e5c25933-ea2f-4bde-a762-1fa42859acf6",
   "metadata": {},
   "outputs": [],
   "source": [
    "import os\n",
    "import re\n",
    "import json\n",
    "import muspy\n",
    "import pickle\n",
    "import random\n",
    "import numpy as np\n",
    "from tqdm import tqdm\n",
    "from pathlib import Path\n",
    "import matplotlib.pyplot as plt"
   ]
  },
  {
   "cell_type": "code",
   "execution_count": null,
   "id": "a0f277ff-0e58-4545-b3ed-b5c6732a7909",
   "metadata": {},
   "outputs": [],
   "source": [
    "lakh_matched_dataset = muspy.LakhMIDIMatchedDataset('persistent/MusicGeneration/data/lmd_matched', use_converted=True)"
   ]
  },
  {
   "cell_type": "code",
   "execution_count": 7,
   "id": "37155ddb-36bc-4830-bff0-53ab3172204a",
   "metadata": {},
   "outputs": [
    {
     "data": {
      "text/plain": [
       "DatasetInfo(name='Lakh MIDI Dataset', description='The Lakh MIDI dataset is a collection of 176,581 unique MIDI files, 45,129 of which have been matched and aligned to entries in the Million Song Dataset. Its goal is to facilitate large-scale music information retrieval, both symbolic (using the MIDI files alone) and audio content-based (using information extracted from the MIDI files as annotations for the matched audio files).', homepage='https://colinraffel.com/projects/lmd/', license='Creative Commons Attribution 4.0 International License (CC-By 4.0)')"
      ]
     },
     "execution_count": 7,
     "metadata": {},
     "output_type": "execute_result"
    }
   ],
   "source": [
    "lakh_matched_dataset.info()"
   ]
  },
  {
   "cell_type": "code",
   "execution_count": 10,
   "id": "66f7c81f-e559-4caa-8839-350ee98b35ec",
   "metadata": {},
   "outputs": [],
   "source": [
    "with open(\"/home/aborghesi/persistent/MusicGeneration/src/spotify_genre_collector/lakh_matched_genre_vectors.pickle\", 'rb') as f:\n",
    "    genre_vectors = pickle.load(f)"
   ]
  },
  {
   "cell_type": "code",
   "execution_count": null,
   "id": "b29e4d5d-b229-4b57-a0a1-56190acd4c74",
   "metadata": {},
   "outputs": [],
   "source": [
    "song_ids = [song.metadata.source_filename[:-4] for song in tqdm(lakh_matched_dataset)] # Quite long"
   ]
  },
  {
   "cell_type": "code",
   "execution_count": 18,
   "id": "c3af701c-52f7-4c1a-a4f9-631d29d6b53c",
   "metadata": {},
   "outputs": [
    {
     "data": {
      "text/plain": [
       "(115190, 44747)"
      ]
     },
     "execution_count": 18,
     "metadata": {},
     "output_type": "execute_result"
    }
   ],
   "source": [
    "len(song_ids), len(set(song_ids))"
   ]
  },
  {
   "cell_type": "code",
   "execution_count": 25,
   "id": "f8bd04d3-e50f-450b-b9f0-728a0257c7a7",
   "metadata": {},
   "outputs": [
    {
     "name": "stderr",
     "output_type": "stream",
     "text": [
      "100%|██████████| 115190/115190 [12:15<00:00, 156.71it/s]\n"
     ]
    }
   ],
   "source": [
    "from tqdm import trange\n",
    "\n",
    "found = set()\n",
    "song_doubles = {}\n",
    "for i in trange(len(song_ids)):\n",
    "    if i in found:\n",
    "        continue\n",
    "    found_idxs = np.where(song_ids[i] == np.asarray(song_ids))[0]\n",
    "    song_doubles[i] = len(found_idxs)\n",
    "    for found_idx in found_idxs:\n",
    "        found.add(found_idx)"
   ]
  },
  {
   "cell_type": "code",
   "execution_count": 33,
   "id": "75191277-ecfc-410c-9c99-32823afdbf4e",
   "metadata": {},
   "outputs": [
    {
     "name": "stdout",
     "output_type": "stream",
     "text": [
      "Mean amount of doubles: 2.5743, std. 2.8815, with a max of 97 and a min of 1\n",
      "1: 20824\n",
      "2: 9462\n",
      "3: 5444\n",
      "4: 3111\n",
      "5: 1864\n",
      "6: 1164\n",
      "7: 728\n",
      "8: 567\n",
      "9: 367\n",
      "10: 309\n",
      "11: 229\n",
      "12: 140\n",
      "13: 96\n",
      "14: 79\n",
      "15: 85\n",
      "16: 68\n",
      "17: 39\n",
      "18: 20\n",
      "19: 21\n",
      "20: 15\n",
      "21: 10\n",
      "22: 14\n",
      "23: 12\n",
      "24: 16\n",
      "25: 3\n",
      "26: 1\n",
      "27: 5\n",
      "28: 5\n",
      "29: 3\n",
      "30: 5\n",
      "31: 2\n",
      "32: 1\n",
      "33: 3\n",
      "34: 3\n",
      "35: 4\n",
      "37: 4\n",
      "38: 2\n",
      "41: 2\n",
      "42: 1\n",
      "45: 1\n",
      "46: 2\n",
      "49: 1\n",
      "52: 3\n",
      "55: 2\n",
      "56: 1\n",
      "57: 2\n",
      "58: 1\n",
      "60: 1\n",
      "61: 1\n",
      "62: 1\n",
      "75: 1\n",
      "90: 1\n",
      "97: 1\n"
     ]
    }
   ],
   "source": [
    "doubles = [int(v) for v in song_doubles.values()]\n",
    "mean = np.mean(doubles)\n",
    "std = np.std(doubles)\n",
    "max_ = np.max(doubles)\n",
    "min_ = np.min(doubles)\n",
    "unique, counts = np.unique(doubles, return_counts=True)\n",
    "print(f\"Mean amount of doubles: {mean:.4f}, std. {std:.4f}, with a max of {max_} and a min of {min_}\")\n",
    "for i in range(len(unique)):\n",
    "    print(f\"{unique[i]}: {counts[i]}\")"
   ]
  },
  {
   "cell_type": "code",
   "execution_count": null,
   "id": "b8cbf79f-55af-4b99-b17a-bca18aeff462",
   "metadata": {},
   "outputs": [],
   "source": []
  }
 ],
 "metadata": {
  "kernelspec": {
   "display_name": "Python (env)",
   "language": "python",
   "name": "env"
  },
  "language_info": {
   "codemirror_mode": {
    "name": "ipython",
    "version": 3
   },
   "file_extension": ".py",
   "mimetype": "text/x-python",
   "name": "python",
   "nbconvert_exporter": "python",
   "pygments_lexer": "ipython3",
   "version": "3.10.5"
  }
 },
 "nbformat": 4,
 "nbformat_minor": 5
}

