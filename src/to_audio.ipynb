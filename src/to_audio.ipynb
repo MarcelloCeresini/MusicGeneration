{
 "cells": [
  {
   "cell_type": "code",
   "execution_count": 1,
   "metadata": {},
   "outputs": [
    {
     "name": "stderr",
     "output_type": "stream",
     "text": [
      "/Users/marcelloceresini/miniconda/envs/env-MusicGeneration/lib/python3.10/site-packages/tqdm/auto.py:21: TqdmWarning: IProgress not found. Please update jupyter and ipywidgets. See https://ipywidgets.readthedocs.io/en/stable/user_install.html\n",
      "  from .autonotebook import tqdm as notebook_tqdm\n"
     ]
    }
   ],
   "source": [
    "import os\n",
    "import numpy as np\n",
    "import muspy\n",
    "from tqdm import tqdm\n",
    "import config\n",
    "import utils\n",
    "import tarfile\n",
    "import shutil\n",
    "import collections\n",
    "from matplotlib import pyplot as plt\n",
    "import json\n",
    "import tensorflow as tf\n",
    "import pickle\n",
    "import json\n",
    "import pprint\n",
    "import subprocess\n",
    "\n",
    "config_string = \"single_instruments_type\"\n",
    "ROOT_PATH = os.path.abspath(os.path.join(os.getcwd(), os.pardir))\n",
    "\n",
    "conf = config.Config(config_string, ROOT_PATH)"
   ]
  },
  {
   "cell_type": "code",
   "execution_count": null,
   "metadata": {},
   "outputs": [],
   "source": [
    "# sounfont_path downloaded from https://www.dropbox.com/s/dl/4x27l49kxcwamp5/GeneralUser_GS_1.471.zip\n",
    "# from the download section of http://schristiancollins.com/generaluser.php\n",
    "# fluidsynth instead is installed by \"brew install fluidsynth\" (for mac)\n",
    "\n",
    "soundfont_path = os.path.join(ROOT_PATH, \"data\", \"GeneralUser GS 1.471\", \"GeneralUser GS v1.471.sf2\")\n"
   ]
  },
  {
   "cell_type": "code",
   "execution_count": 2,
   "metadata": {},
   "outputs": [],
   "source": [
    "directory_songs_to_be_transformed_to_audio = os.path.join(conf.DATA_PATH, \"your_directory\")\n",
    "directory_songs_to_be_transformed_to_audio"
   ]
  },
  {
   "cell_type": "code",
   "execution_count": null,
   "metadata": {},
   "outputs": [],
   "source": [
    "for song_path in os.listdir(directory_songs_to_be_transformed_to_audio):\n",
    "    # TODO: load the song\n",
    "    # song = \n",
    "\n",
    "    converted_song = utils.anti_tranform_representation(song, conf)\n",
    "\n",
    "    path_song_midi = os.path.join(conf.DATA_PATH, \"generation\", \"tmp.midi\") # or else: song_path + \".midi\"\n",
    "\n",
    "    muspy.outputs.write_midi(\n",
    "        path=path_song_midi,\n",
    "        music=converted_song,\n",
    "        backend=\"pretty_midi\",\n",
    "    )\n",
    "\n",
    "    wav_directory = os.path.join(conf.DATA_PATH, \"wav\")\n",
    "\n",
    "    if not os.path.isdir(wav_directory):\n",
    "        os.mkdir(wav_directory)\n",
    "\n",
    "    path_song_wav = os.path.join(wav_directory, song_path+\".wav\")\n",
    "\n",
    "    subprocess.run([\"fluidsynth\", \"-F\", path_song_wav, soundfont_path, path_song_midi])"
   ]
  }
 ],
 "metadata": {
  "kernelspec": {
   "display_name": "env-MusicGeneration",
   "language": "python",
   "name": "python3"
  },
  "language_info": {
   "codemirror_mode": {
    "name": "ipython",
    "version": 3
   },
   "file_extension": ".py",
   "mimetype": "text/x-python",
   "name": "python",
   "nbconvert_exporter": "python",
   "pygments_lexer": "ipython3",
   "version": "3.10.10"
  },
  "orig_nbformat": 4
 },
 "nbformat": 4,
 "nbformat_minor": 2
}
