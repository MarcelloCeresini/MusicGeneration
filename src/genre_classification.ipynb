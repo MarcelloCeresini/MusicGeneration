{
 "cells": [
  {
   "cell_type": "code",
   "execution_count": 1,
   "id": "764251d9-7e3c-45b4-b776-2ef5af3c13ad",
   "metadata": {},
   "outputs": [],
   "source": [
    "import os\n",
    "os.environ[\"CUDA_VISIBLE_DEVICES\"] = \"1\""
   ]
  },
  {
   "cell_type": "code",
   "execution_count": 2,
   "id": "6b9cda5a-afdf-4317-bb69-3c19aebf0167",
   "metadata": {},
   "outputs": [
    {
     "name": "stderr",
     "output_type": "stream",
     "text": [
      "2023-06-04 22:46:27.880633: I tensorflow/core/platform/cpu_feature_guard.cc:193] This TensorFlow binary is optimized with oneAPI Deep Neural Network Library (oneDNN) to use the following CPU instructions in performance-critical operations:  AVX2 AVX512F AVX512_VNNI FMA\n",
      "To enable them in other operations, rebuild TensorFlow with the appropriate compiler flags.\n",
      "2023-06-04 22:46:28.025078: I tensorflow/core/util/util.cc:169] oneDNN custom operations are on. You may see slightly different numerical results due to floating-point round-off errors from different computation orders. To turn them off, set the environment variable `TF_ENABLE_ONEDNN_OPTS=0`.\n",
      "2023-06-04 22:46:28.057841: E tensorflow/stream_executor/cuda/cuda_blas.cc:2981] Unable to register cuBLAS factory: Attempting to register factory for plugin cuBLAS when one has already been registered\n",
      "2023-06-04 22:46:28.682857: W tensorflow/stream_executor/platform/default/dso_loader.cc:64] Could not load dynamic library 'libnvinfer.so.7'; dlerror: libnvinfer.so.7: cannot open shared object file: No such file or directory\n",
      "2023-06-04 22:46:28.682933: W tensorflow/stream_executor/platform/default/dso_loader.cc:64] Could not load dynamic library 'libnvinfer_plugin.so.7'; dlerror: libnvinfer_plugin.so.7: cannot open shared object file: No such file or directory\n",
      "2023-06-04 22:46:28.682940: W tensorflow/compiler/tf2tensorrt/utils/py_utils.cc:38] TF-TRT Warning: Cannot dlopen some TensorRT libraries. If you would like to use Nvidia GPU with TensorRT, please make sure the missing libraries mentioned above are installed properly.\n",
      "/home/aborghesi/persistent/MusicGeneration/env/lib/python3.10/site-packages/tqdm/auto.py:22: TqdmWarning: IProgress not found. Please update jupyter and ipywidgets. See https://ipywidgets.readthedocs.io/en/stable/user_install.html\n",
      "  from .autonotebook import tqdm as notebook_tqdm\n",
      "Failed to detect the name of this notebook, you can set it manually with the WANDB_NOTEBOOK_NAME environment variable to enable code saving.\n",
      "\u001b[34m\u001b[1mwandb\u001b[0m: Currently logged in as: \u001b[33mvolpepe\u001b[0m. Use \u001b[1m`wandb login --relogin`\u001b[0m to force relogin\n"
     ]
    },
    {
     "name": "stdout",
     "output_type": "stream",
     "text": [
      "Using single GPU/CPU device\n"
     ]
    },
    {
     "name": "stderr",
     "output_type": "stream",
     "text": [
      "2023-06-04 22:46:32.105697: I tensorflow/core/platform/cpu_feature_guard.cc:193] This TensorFlow binary is optimized with oneAPI Deep Neural Network Library (oneDNN) to use the following CPU instructions in performance-critical operations:  AVX2 AVX512F AVX512_VNNI FMA\n",
      "To enable them in other operations, rebuild TensorFlow with the appropriate compiler flags.\n",
      "2023-06-04 22:46:32.735464: I tensorflow/core/common_runtime/gpu/gpu_device.cc:1616] Created device /job:localhost/replica:0/task:0/device:GPU:0 with 30487 MB memory:  -> device: 0, name: Tesla V100S-PCIE-32GB, pci bus id: 0000:86:00.0, compute capability: 7.0\n"
     ]
    },
    {
     "name": "stdout",
     "output_type": "stream",
     "text": [
      "Loading pre-trained weights into the model and freezing weights...\n",
      "Collecting dataset splits...\n",
      "Modifying labels...\n"
     ]
    }
   ],
   "source": [
    "import os\n",
    "\n",
    "import numpy as np\n",
    "import tensorflow as tf\n",
    "from tensorflow import keras\n",
    "import tensorflow.keras.backend as K\n",
    "\n",
    "from typing import List\n",
    "from tqdm import trange\n",
    "\n",
    "import wandb\n",
    "from wandb.keras import WandbCallback\n",
    "\n",
    "import config, music_model, utils\n",
    "from sklearn.utils import class_weight\n",
    "\n",
    "TRAIN = False\n",
    "\n",
    "### CONFIGURATION ###\n",
    "\n",
    "wandb.login()\n",
    "\n",
    "ROOT_PATH = os.path.abspath(os.path.join(os.getcwd(), os.pardir))\n",
    "MODEL_SAVE_PATH = os.path.join(ROOT_PATH, 'training', 'checkpoints', 'genre_classifier')\n",
    "os.makedirs(MODEL_SAVE_PATH, exist_ok=True)\n",
    "MODEL_SAVE_PATH = os.path.join(MODEL_SAVE_PATH, 'model-{val_loss:.2f}.h5')\n",
    "DATASET_NAME = 'lmd_matched_final_2048_cut'\n",
    "USE_SMALL_GENRE_SET = DATASET_NAME == 'tf_data7dict'\n",
    "USE_ONE_GPU = True\n",
    "\n",
    "WEIGHTS_PATH = os.path.join(ROOT_PATH, 'training', 'checkpoints', \n",
    "                            'model_GPT_baseline_with_mse_vellmd_matched_2048', \n",
    "                            'model_GPT_baseline_with_mse_vellmd_matched_2048')\n",
    "\n",
    "conf = config.Config(\"single_instruments_type\", ROOT_PATH)\n",
    "\n",
    "if USE_SMALL_GENRE_SET:\n",
    "    conf.accepted_subgenres = ['folk', 'nes', 'maestro']\n",
    "# If we need to use only the first GPU\n",
    "if USE_ONE_GPU:\n",
    "    conf.GPUS = tf.config.experimental.list_physical_devices('GPU')[0]\n",
    "    conf.BATCH_SIZE = conf.BATCH_SIZE\n",
    "    conf.GLOBAL_BATCH_SIZE = conf.BATCH_SIZE\n",
    "    conf.num_devices = 1\n",
    "\n",
    "### MODEL CREATION ###\n",
    "\n",
    "if conf.num_devices > 1:\n",
    "    print(\"Using multiple GPUs with Mirrored Strategy\")\n",
    "    with conf.training_strategy.scope():\n",
    "        model = music_model.create_model(conf,\n",
    "                                         num_genres=len(conf.accepted_subgenres),\n",
    "                                         use_regularization=False,\n",
    "                                         use_masking_layers=False)\n",
    "else:\n",
    "    print(\"Using single GPU/CPU device\")\n",
    "    model = music_model.create_model(conf,\n",
    "                                     num_genres=len(conf.accepted_subgenres),\n",
    "                                     use_regularization=False,\n",
    "                                     use_masking_layers=False)\n",
    "\n",
    "print(\"Loading pre-trained weights into the model and freezing weights...\")\n",
    "model.load_weights(WEIGHTS_PATH)\n",
    "    \n",
    "print(\"Collecting dataset splits...\")\n",
    "dataset_path = conf.dataset_paths[DATASET_NAME]\n",
    "train_dataset, val_dataset, test_dataset = utils.get_dataset_splits(dataset_path, conf)\n",
    "\n",
    "print(\"Modifying labels...\")\n",
    "train_dataset, val_dataset, test_dataset = \\\n",
    "    train_dataset.map(lambda x, y: (x, x[1])), \\\n",
    "    val_dataset.map(lambda x, y: (x, x[1])),   \\\n",
    "    test_dataset.map(lambda x, y: (x, x[1]))"
   ]
  },
  {
   "cell_type": "markdown",
   "id": "28f5dfb4-1553-4e1e-bd20-1bc3ab9ee03c",
   "metadata": {},
   "source": [
    "We extract the transformer's embeddings for the dataset and define the genre classifier on top of the model"
   ]
  },
  {
   "cell_type": "code",
   "execution_count": 3,
   "id": "1ca7bd04-46e7-45dd-bcb2-94ad09c3d187",
   "metadata": {},
   "outputs": [],
   "source": [
    "music_transformer = tf.keras.Model(\n",
    "    inputs=model.inputs, \n",
    "    outputs=model.get_layer('tfgpt2_model').output.last_hidden_state\n",
    ")\n",
    "music_transformer.trainable = False\n",
    "\n",
    "class_gen = tf.keras.Sequential([\n",
    "    tf.keras.layers.LSTM(128),\n",
    "    tf.keras.layers.Dropout(0.2),\n",
    "    tf.keras.layers.Dense(64, activation='relu'),\n",
    "    tf.keras.layers.Dropout(0.2),\n",
    "    tf.keras.layers.Dense(len(conf.accepted_subgenres), activation='relu'),\n",
    "    tf.keras.layers.Softmax()\n",
    "])\n",
    "\n",
    "out_classes = class_gen(music_transformer.outputs[0])\n",
    "\n",
    "genre_classifier = tf.keras.Model(inputs=music_transformer.inputs, outputs=out_classes)\n",
    "genre_classifier.compile(optimizer=tf.keras.optimizers.Adam(learning_rate=1e-3), \n",
    "                         loss=tf.keras.losses.KLDivergence())"
   ]
  },
  {
   "cell_type": "code",
   "execution_count": 4,
   "id": "d1733337-3741-4039-ba70-480814170e9e",
   "metadata": {},
   "outputs": [],
   "source": [
    "labels = np.concatenate([x[1] for x, y in train_dataset], axis=0)\n",
    "genre_labels = np.where(labels > 0)[1]\n",
    "class_weights = class_weight.compute_class_weight('balanced', classes=np.unique(genre_labels), y=genre_labels)\n",
    "class_weights = {i: class_weights[i] for i in range(len(class_weights))}"
   ]
  },
  {
   "cell_type": "code",
   "execution_count": 5,
   "id": "06e5d7fa-76c5-47b9-93c1-07cfc15d0442",
   "metadata": {},
   "outputs": [],
   "source": [
    "if TRAIN:\n",
    "    run = wandb.init(project=\"Music Generation\", entity=\"marcello-e-federico\",\n",
    "                             group='genre_classification', job_type='train',\n",
    "                             name='baseline_genre_class_full')\n",
    "\n",
    "    genre_classifier.fit(x=train_dataset, validation_data=val_dataset, epochs=200, \n",
    "                         callbacks=[\n",
    "                            tf.keras.callbacks.EarlyStopping(patience=30, restore_best_weights=True),\n",
    "                            tf.keras.callbacks.ModelCheckpoint(filepath=MODEL_SAVE_PATH, \n",
    "                                save_best_only=True, save_weights_only=True),\n",
    "                            tf.keras.callbacks.ReduceLROnPlateau(),\n",
    "                            WandbCallback(save_model=False, \n",
    "                                          save_graph=False,log_weights=False)\n",
    "                            ])\n",
    "\n",
    "    run.finish()"
   ]
  },
  {
   "cell_type": "code",
   "execution_count": 6,
   "id": "81c3cb16-6c09-4298-a03d-0cde2bf5c9c7",
   "metadata": {},
   "outputs": [],
   "source": [
    "genre_classifier.load_weights(os.path.join(os.path.dirname(MODEL_SAVE_PATH), 'model-0.47.h5'))"
   ]
  },
  {
   "cell_type": "code",
   "execution_count": 7,
   "id": "64e1a5e1-8acf-4cb2-8161-ccdf8544c7d3",
   "metadata": {},
   "outputs": [
    {
     "name": "stdout",
     "output_type": "stream",
     "text": [
      "   1/1160 [..............................] - ETA: 1:51:33 - loss: 3.0867"
     ]
    },
    {
     "name": "stderr",
     "output_type": "stream",
     "text": [
      "2023-06-04 22:46:52.317790: I tensorflow/stream_executor/cuda/cuda_dnn.cc:384] Loaded cuDNN version 8400\n"
     ]
    },
    {
     "name": "stdout",
     "output_type": "stream",
     "text": [
      "1160/1160 [==============================] - 149s 124ms/step - loss: 0.3837\n"
     ]
    }
   ],
   "source": [
    "test_kld = genre_classifier.evaluate(x=test_dataset, batch_size=conf.BATCH_SIZE)"
   ]
  },
  {
   "cell_type": "code",
   "execution_count": 8,
   "id": "5c3e0a9f-0d9c-49d3-a3f8-461577c6be58",
   "metadata": {},
   "outputs": [
    {
     "data": {
      "text/plain": [
       "0.3837237060070038"
      ]
     },
     "execution_count": 8,
     "metadata": {},
     "output_type": "execute_result"
    }
   ],
   "source": [
    "test_kld"
   ]
  },
  {
   "cell_type": "markdown",
   "id": "12db90b0-66d2-4616-95ca-ab674fb2c9e8",
   "metadata": {},
   "source": [
    "Also obtain the classification report"
   ]
  },
  {
   "cell_type": "code",
   "execution_count": 9,
   "id": "46cef429-affc-4a92-8590-0b4d1f9c4b9d",
   "metadata": {},
   "outputs": [
    {
     "name": "stderr",
     "output_type": "stream",
     "text": [
      "100%|██████████| 1160/1160 [00:03<00:00, 310.72it/s]\n",
      "100%|██████████| 1160/1160 [02:55<00:00,  6.62it/s]\n"
     ]
    },
    {
     "data": {
      "text/plain": [
       "((6955, 18), (6955, 18))"
      ]
     },
     "execution_count": 9,
     "metadata": {},
     "output_type": "execute_result"
    }
   ],
   "source": [
    "from tqdm import tqdm\n",
    "\n",
    "gt_genre_vectors = np.concatenate(\n",
    "    [y for _, y in tqdm(test_dataset)], \n",
    "    axis = 0\n",
    ")\n",
    "\n",
    "predicted_genre_vectors = np.concatenate(\n",
    "    [genre_classifier(X) for X, _ in tqdm(test_dataset)],\n",
    "    axis = 0\n",
    ")\n",
    "\n",
    "gt_genre_vectors.shape, predicted_genre_vectors.shape"
   ]
  },
  {
   "cell_type": "code",
   "execution_count": 10,
   "id": "e81e2d9e-5518-42b9-a20c-81433da3eced",
   "metadata": {},
   "outputs": [
    {
     "name": "stderr",
     "output_type": "stream",
     "text": [
      "6955it [00:00, 79138.03it/s]\n",
      "/home/aborghesi/persistent/MusicGeneration/env/lib/python3.10/site-packages/sklearn/metrics/_classification.py:1344: UndefinedMetricWarning: Precision and F-score are ill-defined and being set to 0.0 in labels with no predicted samples. Use `zero_division` parameter to control this behavior.\n",
      "  _warn_prf(average, modifier, msg_start, len(result))\n",
      "/home/aborghesi/persistent/MusicGeneration/env/lib/python3.10/site-packages/sklearn/metrics/_classification.py:1344: UndefinedMetricWarning: Precision and F-score are ill-defined and being set to 0.0 in samples with no predicted labels. Use `zero_division` parameter to control this behavior.\n",
      "  _warn_prf(average, modifier, msg_start, len(result))\n"
     ]
    },
    {
     "data": {
      "text/plain": [
       "{'rock': {'precision': 0.5963407661520869,\n",
       "  'recall': 0.3024064946361264,\n",
       "  'f1-score': 0.40130819545979224,\n",
       "  'support': 3449},\n",
       " 'pop': {'precision': 0.574719800747198,\n",
       "  'recall': 0.2731577389760284,\n",
       "  'f1-score': 0.3703109327983952,\n",
       "  'support': 3379},\n",
       " 'dance': {'precision': 0.24427480916030533,\n",
       "  'recall': 0.07872078720787208,\n",
       "  'f1-score': 0.11906976744186046,\n",
       "  'support': 813},\n",
       " 'country': {'precision': 0.25510204081632654,\n",
       "  'recall': 0.08833922261484099,\n",
       "  'f1-score': 0.13123359580052493,\n",
       "  'support': 849},\n",
       " 'metal': {'precision': 0.10975609756097561,\n",
       "  'recall': 0.031914893617021274,\n",
       "  'f1-score': 0.04945054945054945,\n",
       "  'support': 282},\n",
       " 'classical': {'precision': 0.08356545961002786,\n",
       "  'recall': 0.07211538461538461,\n",
       "  'f1-score': 0.07741935483870968,\n",
       "  'support': 416},\n",
       " 'folk': {'precision': 0.17582417582417584,\n",
       "  'recall': 0.023703703703703703,\n",
       "  'f1-score': 0.041775456919060046,\n",
       "  'support': 675},\n",
       " 'blues': {'precision': 0.14189189189189189,\n",
       "  'recall': 0.04468085106382979,\n",
       "  'f1-score': 0.06796116504854369,\n",
       "  'support': 470},\n",
       " 'house': {'precision': 0.06030150753768844,\n",
       "  'recall': 0.03560830860534125,\n",
       "  'f1-score': 0.04477611940298508,\n",
       "  'support': 337},\n",
       " 'indie': {'precision': 0.1111111111111111,\n",
       "  'recall': 0.03048780487804878,\n",
       "  'f1-score': 0.04784688995215311,\n",
       "  'support': 328},\n",
       " 'latin': {'precision': 0.0, 'recall': 0.0, 'f1-score': 0.0, 'support': 212},\n",
       " 'jazz': {'precision': 0.0, 'recall': 0.0, 'f1-score': 0.0, 'support': 172},\n",
       " 'funk': {'precision': 0.08928571428571429,\n",
       "  'recall': 0.04081632653061224,\n",
       "  'f1-score': 0.05602240896358543,\n",
       "  'support': 245},\n",
       " 'rap': {'precision': 0.0, 'recall': 0.0, 'f1-score': 0.0, 'support': 188},\n",
       " 'punk': {'precision': 0.0, 'recall': 0.0, 'f1-score': 0.0, 'support': 177},\n",
       " 'r&b': {'precision': 0.031746031746031744,\n",
       "  'recall': 0.007874015748031496,\n",
       "  'f1-score': 0.012618296529968454,\n",
       "  'support': 254},\n",
       " 'gospel': {'precision': 0.014084507042253521,\n",
       "  'recall': 0.00980392156862745,\n",
       "  'f1-score': 0.011560693641618497,\n",
       "  'support': 102},\n",
       " 'electronic': {'precision': 0.0,\n",
       "  'recall': 0.0,\n",
       "  'f1-score': 0.0,\n",
       "  'support': 49},\n",
       " 'micro avg': {'precision': 0.43230589153335935,\n",
       "  'recall': 0.178752924094539,\n",
       "  'f1-score': 0.2529247275009987,\n",
       "  'support': 12397},\n",
       " 'macro avg': {'precision': 0.13822243963809927,\n",
       "  'recall': 0.05775719187585936,\n",
       "  'f1-score': 0.07951963479154146,\n",
       "  'support': 12397},\n",
       " 'weighted avg': {'precision': 0.3834121710519191,\n",
       "  'recall': 0.178752924094539,\n",
       "  'f1-score': 0.24189710412130888,\n",
       "  'support': 12397},\n",
       " 'samples avg': {'precision': 0.2425593098490295,\n",
       "  'recall': 0.1503402827701893,\n",
       "  'f1-score': 0.17860052719865802,\n",
       "  'support': 12397}}"
      ]
     },
     "execution_count": 10,
     "metadata": {},
     "output_type": "execute_result"
    }
   ],
   "source": [
    "from utils import metrics_classification_report\n",
    "\n",
    "metrics_classification_report(gt_genre_vectors, predicted_genre_vectors, conf)"
   ]
  }
 ],
 "metadata": {
  "kernelspec": {
   "display_name": "Python (env)",
   "language": "python",
   "name": "env"
  },
  "language_info": {
   "codemirror_mode": {
    "name": "ipython",
    "version": 3
   },
   "file_extension": ".py",
   "mimetype": "text/x-python",
   "name": "python",
   "nbconvert_exporter": "python",
   "pygments_lexer": "ipython3",
   "version": "3.10.5"
  }
 },
 "nbformat": 4,
 "nbformat_minor": 5
}
