{
 "cells": [
  {
   "attachments": {},
   "cell_type": "markdown",
   "metadata": {},
   "source": [
    "# Imports"
   ]
  },
  {
   "cell_type": "code",
   "execution_count": null,
   "metadata": {
    "scrolled": true,
    "tags": []
   },
   "outputs": [],
   "source": [
    "import os\n",
    "# MASK GPUS\n",
    "os.environ[\"CUDA_VISIBLE_DEVICES\"] = \"1\"\n",
    "\n",
    "import numpy as np\n",
    "import tensorflow as tf\n",
    "from tensorflow.keras import backend as K\n",
    "\n",
    "import wandb\n",
    "from wandb.keras import WandbCallback\n",
    "\n",
    "import config\n",
    "import utils\n",
    "import music_model"
   ]
  },
  {
   "attachments": {},
   "cell_type": "markdown",
   "metadata": {},
   "source": [
    "# Training function"
   ]
  },
  {
   "cell_type": "code",
   "execution_count": 2,
   "metadata": {},
   "outputs": [],
   "source": [
    "ROOT_PATH = os.path.abspath(os.path.join(os.getcwd(), os.pardir))\n",
    "DATASET_NAME = 'lmd_matched_final_2048_cut'\n",
    "\n",
    "USE_SMALL_GENRE_SET = DATASET_NAME == 'tf_data7dict'\n",
    "\n",
    "def get_model_name(use_mask: bool, use_reg: bool, use_mse_for_velocity:bool):\n",
    "    if use_mask and not use_reg:\n",
    "        model_name = 'mask_only'\n",
    "    elif use_reg and not use_mask:\n",
    "        model_name = 'reg_only'\n",
    "    elif use_reg and use_mask:\n",
    "        model_name = 'reg_and_mask'\n",
    "    else:\n",
    "        model_name = 'baseline'\n",
    "    if use_mse_for_velocity:\n",
    "        model_name += '_with_mse_vel'\n",
    "    return model_name\n",
    "\n",
    "def run_training(additional_model_name='', log_name='', model_type='GPT', \n",
    "                 use_mask=True, use_reg=True, use_mse_for_velocity=True,\n",
    "                 use_wandb=True, use_one_gpu=False, seq_len=2048, verbose=True,\n",
    "                 double_head=False):\n",
    "    \n",
    "    if verbose: print(\"Running setup...\")\n",
    "    model_name = get_model_name(use_mask, use_reg, use_mse_for_velocity)\n",
    "    \n",
    "    if verbose: print(\"\\tInstantiating and personalizing Config object...\")\n",
    "    conf = config.Config(config_string=\"single_instruments_type\", \n",
    "                         sequence_length=seq_len,\n",
    "                         root_path=ROOT_PATH, \n",
    "                         model_type=model_type,\n",
    "                         model_name=f'model_{model_type}_{model_name + additional_model_name}')\n",
    "\n",
    "    # Config object has by default the full list of accepted subgenres and works on multi-gpus\n",
    "    # If we use the small dataset\n",
    "    if USE_SMALL_GENRE_SET:\n",
    "        conf.accepted_subgenres = ['folk', 'nes', 'maestro']\n",
    "\n",
    "    # If we need to use only the first GPU\n",
    "    if use_one_gpu:\n",
    "        conf.GPUS = tf.config.list_physical_devices('GPU')[0]\n",
    "        conf.BATCH_SIZE = 24\n",
    "        conf.GLOBAL_BATCH_SIZE = conf.BATCH_SIZE\n",
    "        conf.num_devices = 1\n",
    "        print(f\"Using only GPU: {conf.GPUS}\")\n",
    "    \n",
    "    if verbose: print(\"\\tCreating model...\")\n",
    "    if conf.num_devices > 1:\n",
    "        print(\"Using multiple GPUs with Mirrored Strategy\")\n",
    "        with conf.training_strategy.scope():\n",
    "            model = music_model.create_model(conf, \n",
    "                                             use_masking_layers=use_mask,\n",
    "                                             use_regularization=use_reg,\n",
    "                                             use_mse_for_velocity=use_mse_for_velocity,\n",
    "                                             double_head=double_head)\n",
    "    else:\n",
    "        print(\"Using single GPU/CPU device\")\n",
    "        model = music_model.create_model(conf, \n",
    "                                         use_masking_layers=use_mask,\n",
    "                                         use_regularization=use_reg,\n",
    "                                         use_mse_for_velocity=use_mse_for_velocity,\n",
    "                                         double_head=double_head)\n",
    "    \n",
    "    if verbose: print(\"\\tSetupping Wandb logger...\")\n",
    "    if use_wandb:\n",
    "        wandb_config = {\n",
    "            'gpus': conf.num_devices,\n",
    "            'dataset': DATASET_NAME,\n",
    "            'genres': conf.accepted_subgenres,\n",
    "            'embedding_size': conf.SINGLE_EMB_SIZE,\n",
    "            'batch_size': conf.BATCH_SIZE,\n",
    "            'global_batch_size': conf.GLOBAL_BATCH_SIZE,\n",
    "            'mse_for_velocity': use_mse_for_velocity,\n",
    "            'reg_loss_scale': conf.REG_LOSS_SCALE,\n",
    "            'masking': conf.USE_MASKING,\n",
    "            'dropout_prob': conf.DROPOUT_VALUE,\n",
    "            'seq_len': conf.SEQ_LEN,\n",
    "            'token_dim': conf.TOKEN_DIM,\n",
    "            'genre_dim': conf.GENRE_DIM,\n",
    "            'attn_heads': conf.ATTENTION_HEADS,\n",
    "            'attn_blocks': conf.ATTENTION_BLOCKS,\n",
    "        }\n",
    "\n",
    "        if model_type == 'GPT':\n",
    "            wandb_config['activation_func'] = conf.DECODER_ACTIVATION_FUNCTION\n",
    "        elif model_type == 'XL':\n",
    "            wandb_config['sequence_blocks'] = conf.DIV_VAL\n",
    "            wandb_config['head_dim']  = conf.HEAD_DIM\n",
    "            wandb_config['inner_dim'] = conf.INNER_DIM\n",
    "            wandb_config['memory_length'] = conf.MEMORY_LEN\n",
    "\n",
    "        run = wandb.init(project=\"Music Generation\", entity=\"marcello-e-federico\",\n",
    "                         group=model_name, job_type='train', config=wandb_config,\n",
    "                         name=log_name if log_name != '' else None)\n",
    "    \n",
    "    if verbose: print(\"\\tObtaining dataset...\")\n",
    "    dataset_path = conf.dataset_paths[DATASET_NAME]\n",
    "    train_dataset, val_dataset, test_dataset = utils.get_dataset_splits(dataset_path, conf)\n",
    "    \n",
    "    if verbose: print(\"\\tSetupping callbacks...\")\n",
    "    callbacks = conf.MODEL_CALLBACKS\n",
    "    if use_wandb:\n",
    "        callbacks.append(WandbCallback(\n",
    "            save_model=False, save_graph=False,\n",
    "            log_weights=False\n",
    "        ))\n",
    "    \n",
    "    if verbose: print(\"Training start\")\n",
    "    history = model.fit(\n",
    "        train_dataset,\n",
    "        epochs = 100,\n",
    "        callbacks = callbacks,\n",
    "        validation_data = val_dataset,\n",
    "        # initial_epoch = initial_epoch # change if resuming from previous checkpoint\n",
    "    )\n",
    "    if verbose: print(\"Training finished\")\n",
    "    \n",
    "    if use_wandb:\n",
    "        if verbose: print(\"\\tClosing Wandb logger...\")\n",
    "        run.finish()\n",
    "        \n",
    "    if verbose: print(\"\\tClearing session...\")\n",
    "    K.clear_session()\n",
    "        \n",
    "    return model, history"
   ]
  },
  {
   "attachments": {},
   "cell_type": "markdown",
   "metadata": {},
   "source": [
    "# Trainings"
   ]
  },
  {
   "attachments": {},
   "cell_type": "markdown",
   "metadata": {},
   "source": [
    "## Single head"
   ]
  },
  {
   "cell_type": "code",
   "execution_count": null,
   "metadata": {},
   "outputs": [],
   "source": [
    "print(\"TRAINING BASELINE MODEL\\n\\n\")\n",
    "model_baseline_mse_vel, history_baseline_mse_vel = run_training(additional_model_name='_lmd_matched_2048', log_name='', model_type='GPT', \n",
    "                                                        use_mask=False, use_reg=False, use_mse_for_velocity=True, use_wandb=True, \n",
    "                                                        use_one_gpu=True, seq_len=2048, verbose=True)\n",
    "\n",
    "print(\"=================================\\n\")\n",
    "print(\"TRAINING REG ONLY MODEL\\n\\n\")    \n",
    "model_reg_mse_vel, history_reg_mse_vel = run_training(additional_model_name='_lmd_matched_2048', log_name='', model_type='GPT', \n",
    "                                                        use_mask=False, use_reg=True, use_mse_for_velocity=True, use_wandb=True, \n",
    "                                                        use_one_gpu=True, seq_len=2048, verbose=True)\n",
    "\n",
    "print(\"=================================\\n\")\n",
    "print(\"TRAINING MASK ONLY MODEL\\n\\n\")\n",
    "model_mask_mse_vel, history_mask_mse_vel = run_training(additional_model_name='_lmd_matched_2048', log_name='', model_type='GPT', \n",
    "                                                        use_mask=True, use_reg=False, use_mse_for_velocity=True, use_wandb=True, \n",
    "                                                        use_one_gpu=True, seq_len=2048, verbose=True)\n",
    "\n",
    "print(\"=================================\\n\")\n",
    "print(\"TRAINING MASK AND REG MODEL\\n\\n\")\n",
    "model_mask_reg_mse_vel, history_mask_reg_mse_vel = run_training(additional_model_name='_lmd_matched_2048', log_name='', model_type='GPT', \n",
    "                                                        use_mask=True, use_reg=True, use_mse_for_velocity=True, use_wandb=True, \n",
    "                                                        use_one_gpu=True, seq_len=2048, verbose=True)"
   ]
  },
  {
   "attachments": {},
   "cell_type": "markdown",
   "metadata": {},
   "source": [
    "## Double head"
   ]
  },
  {
   "cell_type": "code",
   "execution_count": null,
   "metadata": {},
   "outputs": [],
   "source": [
    "print(\"TRAINING BASELINE MODEL\\n\\n\")\n",
    "model_baseline_mse_vel, history_baseline_mse_vel = run_training(additional_model_name='_lmd_matched_2048_double_head', log_name='', model_type='GPT', \n",
    "                                                        use_mask=False, use_reg=False, use_mse_for_velocity=True, use_wandb=True, \n",
    "                                                        use_one_gpu=True, seq_len=2048, verbose=True, double_head=True)\n",
    "\n",
    "print(\"=================================\\n\")\n",
    "print(\"TRAINING REG ONLY MODEL\\n\\n\")    \n",
    "model_reg_mse_vel, history_reg_mse_vel = run_training(additional_model_name='_lmd_matched_2048_double_head', log_name='', model_type='GPT', \n",
    "                                                        use_mask=False, use_reg=True, use_mse_for_velocity=True, use_wandb=True, \n",
    "                                                        use_one_gpu=True, seq_len=2048, verbose=True, double_head=True)"
   ]
  }
 ],
 "metadata": {
  "kernelspec": {
   "display_name": "Python 3 (ipykernel)",
   "language": "python",
   "name": "python3"
  },
  "language_info": {
   "codemirror_mode": {
    "name": "ipython",
    "version": 3
   },
   "file_extension": ".py",
   "mimetype": "text/x-python",
   "name": "python",
   "nbconvert_exporter": "python",
   "pygments_lexer": "ipython3",
   "version": "3.10.5"
  },
  "vscode": {
   "interpreter": {
    "hash": "17321a188135f2c2c768fa02a53ff8b7818a96a6473bfad36c60a386ff86beab"
   }
  }
 },
 "nbformat": 4,
 "nbformat_minor": 4
}
