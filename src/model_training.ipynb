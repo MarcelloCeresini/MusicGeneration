{
 "cells": [
  {
   "cell_type": "markdown",
   "metadata": {},
   "source": [
    "# Imports"
   ]
  },
  {
   "cell_type": "code",
   "execution_count": 1,
   "metadata": {
    "scrolled": true,
    "tags": []
   },
   "outputs": [
    {
     "name": "stderr",
     "output_type": "stream",
     "text": [
      "2022-12-23 13:38:41.155530: I tensorflow/core/platform/cpu_feature_guard.cc:193] This TensorFlow binary is optimized with oneAPI Deep Neural Network Library (oneDNN) to use the following CPU instructions in performance-critical operations:  AVX2 AVX512F AVX512_VNNI FMA\n",
      "To enable them in other operations, rebuild TensorFlow with the appropriate compiler flags.\n",
      "2022-12-23 13:38:41.281051: I tensorflow/core/util/util.cc:169] oneDNN custom operations are on. You may see slightly different numerical results due to floating-point round-off errors from different computation orders. To turn them off, set the environment variable `TF_ENABLE_ONEDNN_OPTS=0`.\n",
      "2022-12-23 13:38:41.313595: E tensorflow/stream_executor/cuda/cuda_blas.cc:2981] Unable to register cuBLAS factory: Attempting to register factory for plugin cuBLAS when one has already been registered\n",
      "2022-12-23 13:38:41.954498: W tensorflow/stream_executor/platform/default/dso_loader.cc:64] Could not load dynamic library 'libnvinfer.so.7'; dlerror: libnvinfer.so.7: cannot open shared object file: No such file or directory\n",
      "2022-12-23 13:38:41.954571: W tensorflow/stream_executor/platform/default/dso_loader.cc:64] Could not load dynamic library 'libnvinfer_plugin.so.7'; dlerror: libnvinfer_plugin.so.7: cannot open shared object file: No such file or directory\n",
      "2022-12-23 13:38:41.954579: W tensorflow/compiler/tf2tensorrt/utils/py_utils.cc:38] TF-TRT Warning: Cannot dlopen some TensorRT libraries. If you would like to use Nvidia GPU with TensorRT, please make sure the missing libraries mentioned above are installed properly.\n",
      "/home/aborghesi/persistent/MusicGeneration/env/lib/python3.10/site-packages/tqdm/auto.py:22: TqdmWarning: IProgress not found. Please update jupyter and ipywidgets. See https://ipywidgets.readthedocs.io/en/stable/user_install.html\n",
      "  from .autonotebook import tqdm as notebook_tqdm\n"
     ]
    }
   ],
   "source": [
    "import os\n",
    "\n",
    "import numpy as np\n",
    "import tensorflow as tf\n",
    "\n",
    "import wandb\n",
    "from wandb.keras import WandbCallback\n",
    "\n",
    "import config\n",
    "import utils\n",
    "import music_model"
   ]
  },
  {
   "cell_type": "markdown",
   "metadata": {},
   "source": [
    "# Setup"
   ]
  },
  {
   "cell_type": "markdown",
   "metadata": {},
   "source": [
    "Set the following variables before training"
   ]
  },
  {
   "cell_type": "code",
   "execution_count": 2,
   "metadata": {},
   "outputs": [],
   "source": [
    "ADDITIONAL_MODEL_NAME = ''\n",
    "LOG_NAME = ''                 # A log name for visualization on Wandb (if left empty it will be a random name)\n",
    "\n",
    "MODEL_TYPE  = 'GPT'            # \"GPT\" or \"XL\"\n",
    "USE_MASK    = False\n",
    "USE_REG     = True\n",
    "\n",
    "USE_WANDB   = True\n",
    "USE_ONE_GPU = True           # or False if another GPU is available\n",
    "\n",
    "USE_SMALL_GENRE_SET = True  # or False if we want to use the dataset with the full genre subset list\n",
    "DATASET_NAME = 'tf_data7dict' # or whatever"
   ]
  },
  {
   "cell_type": "code",
   "execution_count": 3,
   "metadata": {},
   "outputs": [],
   "source": [
    "if USE_MASK and not USE_REG:\n",
    "    MODEL_NAME = 'mask_only'\n",
    "elif USE_REG and not USE_MASK:\n",
    "    MODEL_NAME = 'reg_only'\n",
    "elif USE_REG and USE_MASK:\n",
    "    MODEL_NAME = 'reg_and_mask'\n",
    "else:\n",
    "    MODEL_NAME = 'baseline'"
   ]
  },
  {
   "cell_type": "code",
   "execution_count": 4,
   "metadata": {},
   "outputs": [
    {
     "name": "stdout",
     "output_type": "stream",
     "text": [
      "INFO:tensorflow:Using MirroredStrategy with devices ('/job:localhost/replica:0/task:0/device:GPU:0', '/job:localhost/replica:0/task:0/device:GPU:1')\n"
     ]
    },
    {
     "name": "stderr",
     "output_type": "stream",
     "text": [
      "2022-12-23 13:39:06.966273: I tensorflow/core/platform/cpu_feature_guard.cc:193] This TensorFlow binary is optimized with oneAPI Deep Neural Network Library (oneDNN) to use the following CPU instructions in performance-critical operations:  AVX2 AVX512F AVX512_VNNI FMA\n",
      "To enable them in other operations, rebuild TensorFlow with the appropriate compiler flags.\n",
      "2022-12-23 13:39:08.187136: I tensorflow/core/common_runtime/gpu/gpu_device.cc:1616] Created device /job:localhost/replica:0/task:0/device:GPU:0 with 30503 MB memory:  -> device: 0, name: Tesla V100S-PCIE-32GB, pci bus id: 0000:3b:00.0, compute capability: 7.0\n",
      "2022-12-23 13:39:08.187712: I tensorflow/core/common_runtime/gpu/gpu_device.cc:1616] Created device /job:localhost/replica:0/task:0/device:GPU:1 with 646 MB memory:  -> device: 1, name: Tesla V100S-PCIE-32GB, pci bus id: 0000:86:00.0, compute capability: 7.0\n"
     ]
    }
   ],
   "source": [
    "ROOT_PATH = os.path.abspath(os.path.join(os.getcwd(), os.pardir))\n",
    "conf = config.Config(config_string=\"single_instruments_type\", \n",
    "                     root_path=ROOT_PATH, \n",
    "                     model_type=MODEL_TYPE,\n",
    "                     model_name=f'model_{MODEL_TYPE}_{MODEL_NAME + ADDITIONAL_MODEL_NAME}')\n",
    "\n",
    "# Config object has by default the full list of accepted subgenres and works on multi-gpus\n",
    "# If we use the small dataset\n",
    "if USE_SMALL_GENRE_SET:\n",
    "    conf.accepted_subgenres = ['folk', 'nes', 'maestro']\n",
    "\n",
    "# If we need to use only the first GPU\n",
    "if USE_ONE_GPU:\n",
    "    conf.GPUS = tf.config.experimental.list_physical_devices('GPU')[0]\n",
    "    conf.BATCH_SIZE = 4\n",
    "    conf.GLOBAL_BATCH_SIZE = conf.BATCH_SIZE\n",
    "    conf.num_devices = 1"
   ]
  },
  {
   "cell_type": "markdown",
   "metadata": {},
   "source": [
    "# Training"
   ]
  },
  {
   "cell_type": "markdown",
   "metadata": {},
   "source": [
    "## Model creation"
   ]
  },
  {
   "cell_type": "code",
   "execution_count": 5,
   "metadata": {
    "scrolled": true,
    "tags": []
   },
   "outputs": [
    {
     "name": "stdout",
     "output_type": "stream",
     "text": [
      "Using single GPU/CPU device\n"
     ]
    }
   ],
   "source": [
    "if conf.num_devices > 1:\n",
    "    print(\"Using multiple GPUs with Mirrored Strategy\")\n",
    "    with conf.training_strategy.scope():\n",
    "        model = music_model.create_model(conf, \n",
    "                                         use_masking_layers=USE_MASK,\n",
    "                                         use_regularization=USE_REG)\n",
    "else:\n",
    "    print(\"Using single GPU/CPU device\")\n",
    "    model = music_model.create_model(conf, \n",
    "                                     use_masking_layers=USE_MASK,\n",
    "                                     use_regularization=USE_REG)"
   ]
  },
  {
   "cell_type": "markdown",
   "metadata": {},
   "source": [
    "## Wandb setup"
   ]
  },
  {
   "cell_type": "code",
   "execution_count": 6,
   "metadata": {},
   "outputs": [
    {
     "name": "stderr",
     "output_type": "stream",
     "text": [
      "Failed to detect the name of this notebook, you can set it manually with the WANDB_NOTEBOOK_NAME environment variable to enable code saving.\n",
      "\u001b[34m\u001b[1mwandb\u001b[0m: Currently logged in as: \u001b[33mvolpepe\u001b[0m (\u001b[33mmarcello-e-federico\u001b[0m). Use \u001b[1m`wandb login --relogin`\u001b[0m to force relogin\n"
     ]
    },
    {
     "data": {
      "text/html": [
       "wandb version 0.13.7 is available!  To upgrade, please run:\n",
       " $ pip install wandb --upgrade"
      ],
      "text/plain": [
       "<IPython.core.display.HTML object>"
      ]
     },
     "metadata": {},
     "output_type": "display_data"
    },
    {
     "data": {
      "text/html": [
       "Tracking run with wandb version 0.13.5"
      ],
      "text/plain": [
       "<IPython.core.display.HTML object>"
      ]
     },
     "metadata": {},
     "output_type": "display_data"
    },
    {
     "data": {
      "text/html": [
       "Run data is saved locally in <code>/home/aborghesi/persistent/MusicGeneration/src/wandb/run-20221223_133919-2857fdnf</code>"
      ],
      "text/plain": [
       "<IPython.core.display.HTML object>"
      ]
     },
     "metadata": {},
     "output_type": "display_data"
    },
    {
     "data": {
      "text/html": [
       "Syncing run <strong><a href=\"https://wandb.ai/marcello-e-federico/Music%20Generation/runs/2857fdnf\" target=\"_blank\">mild-spaceship-25</a></strong> to <a href=\"https://wandb.ai/marcello-e-federico/Music%20Generation\" target=\"_blank\">Weights & Biases</a> (<a href=\"https://wandb.me/run\" target=\"_blank\">docs</a>)<br/>"
      ],
      "text/plain": [
       "<IPython.core.display.HTML object>"
      ]
     },
     "metadata": {},
     "output_type": "display_data"
    }
   ],
   "source": [
    "if USE_WANDB:\n",
    "    wandb_config = {\n",
    "        'gpus': conf.num_devices,\n",
    "        'dataset': DATASET_NAME,\n",
    "        'genres': conf.accepted_subgenres,\n",
    "        'embedding_size': conf.SINGLE_EMB_SIZE,\n",
    "        'batch_size': conf.BATCH_SIZE,\n",
    "        'global_batch_size': conf.GLOBAL_BATCH_SIZE,\n",
    "        'reg_loss_scale': conf.REG_LOSS_SCALE,\n",
    "        'masking': conf.USE_MASKING,\n",
    "        'dropout_prob': conf.DROPOUT_VALUE,\n",
    "        'seq_len': conf.SEQ_LEN,\n",
    "        'token_dim': conf.TOKEN_DIM,\n",
    "        'genre_dim': conf.GENRE_DIM,\n",
    "        'attn_heads': conf.ATTENTION_HEADS,\n",
    "        'attn_blocks': conf.ATTENTION_BLOCKS,\n",
    "    }\n",
    "\n",
    "    if MODEL_TYPE == 'GPT':\n",
    "        wandb_config['activation_func'] = conf.DECODER_ACTIVATION_FUNCTION\n",
    "    elif MODEL_TYPE == 'XL':\n",
    "        wandb_config['sequence_blocks'] = conf.DIV_VAL\n",
    "        wandb_config['head_dim']  = conf.HEAD_DIM\n",
    "        wandb_config['inner_dim'] = conf.INNER_DIM\n",
    "        wandb_config['memory_length'] = conf.MEMORY_LEN\n",
    "\n",
    "    run = wandb.init(project=\"Music Generation\", entity=\"marcello-e-federico\",\n",
    "                     group=MODEL_NAME, job_type='train', config=wandb_config,\n",
    "                     name=LOG_NAME if LOG_NAME != '' else None)"
   ]
  },
  {
   "cell_type": "markdown",
   "metadata": {},
   "source": [
    "## Loading dataset"
   ]
  },
  {
   "cell_type": "code",
   "execution_count": 7,
   "metadata": {},
   "outputs": [],
   "source": [
    "dataset_path = conf.dataset_paths[DATASET_NAME]\n",
    "train_dataset, val_dataset, test_dataset = utils.get_dataset_splits(dataset_path, conf)"
   ]
  },
  {
   "cell_type": "markdown",
   "metadata": {},
   "source": [
    "## Training"
   ]
  },
  {
   "cell_type": "code",
   "execution_count": 8,
   "metadata": {},
   "outputs": [],
   "source": [
    "callbacks = conf.MODEL_CALLBACKS\n",
    "if USE_WANDB:\n",
    "    callbacks.append(WandbCallback(\n",
    "        save_model=False, save_graph=False,\n",
    "        log_weights=True\n",
    "    ))"
   ]
  },
  {
   "cell_type": "code",
   "execution_count": null,
   "metadata": {
    "scrolled": true,
    "tags": []
   },
   "outputs": [
    {
     "name": "stdout",
     "output_type": "stream",
     "text": [
      "Epoch 1/100\n",
      "   6/1394 [..............................] - ETA: 25:49 - loss: 10.0448 - type_loss: 0.2179 - measure_loss: 1.2005 - beat_loss: 0.6758 - position_loss: 0.3034 - duration_loss: 0.3902 - pitch_loss: 1.3983 - instrument_loss: 0.7905 - velocity_loss: 1.0527 - key_sign_loss: 0.1463 - time_sign_loss: 0.3873 - tempo_loss: 0.3233 - regularization_loss: 3.1586WARNING:tensorflow:Callback method `on_train_batch_end` is slow compared to the batch time (batch time: 0.4780s vs `on_train_batch_end` time: 0.5327s). Check your callbacks.\n",
      "1394/1394 [==============================] - 1726s 1s/step - loss: 4.3797 - type_loss: 0.0165 - measure_loss: 0.3683 - beat_loss: 0.1923 - position_loss: 0.0242 - duration_loss: 0.1528 - pitch_loss: 1.0288 - instrument_loss: 0.3407 - velocity_loss: 0.6032 - key_sign_loss: 0.0442 - time_sign_loss: 0.0436 - tempo_loss: 0.0100 - regularization_loss: 1.5553 - val_loss: 6.4528 - val_type_loss: 0.0048 - val_measure_loss: 0.8722 - val_beat_loss: 0.2370 - val_position_loss: 0.1286 - val_duration_loss: 0.5881 - val_pitch_loss: 0.8635 - val_instrument_loss: 0.5061 - val_velocity_loss: 1.6428 - val_key_sign_loss: 0.2320 - val_time_sign_loss: 0.1337 - val_tempo_loss: 0.0060 - val_regularization_loss: 1.2380 - lr: 0.0010\n",
      "Epoch 2/100\n",
      " 184/1394 [==>...........................] - ETA: 22:46 - loss: 3.5588 - type_loss: 0.0106 - measure_loss: 0.1354 - beat_loss: 0.1085 - position_loss: 0.0094 - duration_loss: 0.1359 - pitch_loss: 1.0177 - instrument_loss: 0.3280 - velocity_loss: 0.6115 - key_sign_loss: 5.9348e-04 - time_sign_loss: 0.0107 - tempo_loss: 0.0078 - regularization_loss: 1.1827"
     ]
    }
   ],
   "source": [
    "model.fit(\n",
    "    train_dataset,\n",
    "    epochs = 100,\n",
    "    callbacks = callbacks,\n",
    "    validation_data = val_dataset,\n",
    "    # initial_epoch = initial_epoch # change if resuming from previous checkpoint\n",
    ")"
   ]
  },
  {
   "cell_type": "code",
   "execution_count": null,
   "metadata": {},
   "outputs": [],
   "source": [
    "if USE_WANDB:\n",
    "    run.finish()"
   ]
  }
 ],
 "metadata": {
  "kernelspec": {
   "display_name": "env",
   "language": "python",
   "name": "env"
  },
  "language_info": {
   "codemirror_mode": {
    "name": "ipython",
    "version": 3
   },
   "file_extension": ".py",
   "mimetype": "text/x-python",
   "name": "python",
   "nbconvert_exporter": "python",
   "pygments_lexer": "ipython3",
   "version": "3.10.5"
  },
  "vscode": {
   "interpreter": {
    "hash": "17321a188135f2c2c768fa02a53ff8b7818a96a6473bfad36c60a386ff86beab"
   }
  }
 },
 "nbformat": 4,
 "nbformat_minor": 4
}
